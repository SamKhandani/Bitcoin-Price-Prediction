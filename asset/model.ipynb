{
 "cells": [
  {
   "cell_type": "code",
   "execution_count": null,
   "metadata": {},
   "outputs": [],
   "source": [
    "import numpy as np\n",
    "import pandas as pd\n",
    "import matplotlib.pyplot as plt\n",
    "from sklearn.preprocessing import MinMaxScaler\n",
    "from tensorflow.keras.optimizers import Adam\n",
    "from keras.models import Sequential\n",
    "from keras.regularizers import L2\n",
    "from sklearn.model_selection import TimeSeriesSplit\n",
    "from keras.layers import LSTM, Dense, Dropout, BatchNormalization , Bidirectional\n",
    "from tensorflow.keras.callbacks import EarlyStopping, ReduceLROnPlateau\n",
    "from sklearn.metrics import r2_score\n",
    "from sklearn.metrics import mean_absolute_percentage_error\n",
    "from sklearn.metrics import mean_absolute_error, mean_squared_error\n",
    "import plotly.graph_objects as go"
   ]
  },
  {
   "cell_type": "code",
   "execution_count": null,
   "metadata": {},
   "outputs": [],
   "source": [
    "# خواندن داده و فیلتر کردن از تاریخ ۲۰۱۸ به بعد\n",
    "df = pd.read_csv('BTC_USD_INDICATORs.csv')\n",
    "\n",
    "# حذف ستون 'Adj Close' و تنظیم ستون Date به عنوان اندیس\n",
    "df = df.drop('Adj Close', axis=1)\n",
    "df['Volume'] = np.log1p(df['Volume'])\n",
    "df.head(-10)"
   ]
  },
  {
   "cell_type": "code",
   "execution_count": null,
   "metadata": {},
   "outputs": [],
   "source": [
    "# Check shape\n",
    "df.shape"
   ]
  },
  {
   "cell_type": "code",
   "execution_count": null,
   "metadata": {},
   "outputs": [],
   "source": [
    "df.describe()"
   ]
  },
  {
   "cell_type": "code",
   "execution_count": null,
   "metadata": {},
   "outputs": [],
   "source": [
    "# Plot historical closing prices\n",
    "plt.close()\n",
    "plt.figure(1, figsize=(12, 6))\n",
    "plt.plot(df[\"Close\"])\n",
    "plt.show()"
   ]
  },
  {
   "cell_type": "code",
   "execution_count": null,
   "metadata": {},
   "outputs": [],
   "source": [
    "df['Date'] = pd.to_datetime(df['Date'])\n",
    "\n",
    "# رسم نمودار کندلی\n",
    "fig = go.Figure(data=[go.Candlestick(x=df['Date'],\n",
    "                                     open=df['Open'], high=df['High'],\n",
    "                                     low=df['Low'], close=df['Close'])])\n",
    "\n",
    "fig.update_layout(title='نمودار کندلی',\n",
    "                  xaxis_title='تاریخ',\n",
    "                  yaxis_title='قیمت')\n",
    "\n",
    "fig.show()"
   ]
  },
  {
   "cell_type": "code",
   "execution_count": null,
   "metadata": {},
   "outputs": [],
   "source": [
    "df = df.set_index('Date')\n",
    "features = ['Open', 'High', 'Low', 'Close', 'Volume', 'MA_20', 'MA_50', 'MA_200', 'RSI', 'MACD', 'Signal', 'Histogram']\n",
    "x = df[features].values  # فقط مقادیر عددی ستون‌های موردنظر\n",
    "\n",
    "scaler = MinMaxScaler(feature_range=(0, 1))\n",
    "x = scaler.fit_transform(np.array(x))\n",
    "\n",
    "# Split dataset into training and testing sets\n",
    "# تقسیم داده‌ها به آموزش و آزمون\n",
    "split_index = int(len(df) * 0.8)  # 80% آموزش، 20% آزمون\n",
    "X_train = x[:split_index]\n",
    "X_test = x[split_index:]\n",
    "\n",
    "X_train.shape, X_test.shape"
   ]
  },
  {
   "cell_type": "code",
   "execution_count": null,
   "metadata": {},
   "outputs": [],
   "source": [
    "# تعریف طول دنباله (مثلاً ۱۰ روز)\n",
    "sequence_length = 10  \n",
    "# انتخاب اندیس ستون‌هایی که می‌خواهیم پیش‌بینی کنیم: High, Low, Close (اندیس‌های ۱، ۲، ۳)\n",
    "target_columns = [1, 2, 3]\n",
    "\n",
    "# تابع ایجاد دنباله‌های زمانی\n",
    "def create_sequences(data, seq_length, target_cols):\n",
    "    X = []\n",
    "    y = []\n",
    "    for i in range(len(data) - seq_length):\n",
    "        X.append(data[i:i+seq_length])           # دنباله ورودی به طول seq_length\n",
    "        y.append(data[i+seq_length, target_cols])  # پیش‌بینی مقادیر روز بعد (High, Low, Close)\n",
    "    return np.array(X), np.array(y)\n",
    "\n",
    "# ایجاد دنباله‌های آموزشی و آزمون\n",
    "X_train_seq, y_train = create_sequences(X_train, sequence_length, target_columns)\n",
    "X_test_seq, y_test = create_sequences(X_test, sequence_length, target_columns)\n",
    "\n",
    "print(\"shape X_train_seq:\", X_train_seq.shape)\n",
    "print(\"shape y_train:\", y_train.shape)\n",
    "print(\"shape X_test_seq:\", X_test_seq.shape)\n",
    "print(\"shape y_test:\", y_test.shape)"
   ]
  },
  {
   "cell_type": "code",
   "execution_count": null,
   "metadata": {},
   "outputs": [],
   "source": [
    "# تعریف مدل LSTM بهبود یافته\n",
    "def create_model(input_shape):\n",
    "    model = Sequential()\n",
    "    \n",
    "    # لایه اول Bidirectional LSTM با تنظیمات بهینه\n",
    "    model.add(Bidirectional(\n",
    "        LSTM(128, activation='tanh', return_sequences=True, \n",
    "             kernel_regularizer=L2(0.001)),\n",
    "        input_shape=input_shape\n",
    "    ))\n",
    "    model.add(Dropout(0.3))\n",
    "    model.add(BatchNormalization())\n",
    "    \n",
    "    # لایه دوم LSTM\n",
    "    model.add(Bidirectional(\n",
    "        LSTM(64, activation='tanh', return_sequences=True,\n",
    "            kernel_regularizer=L2(0.001))\n",
    "    ))\n",
    "    model.add(Dropout(0.3))\n",
    "    model.add(BatchNormalization())\n",
    "    \n",
    "    # لایه سوم LSTM\n",
    "    model.add(Bidirectional(\n",
    "        LSTM(32, activation='tanh',\n",
    "            kernel_regularizer=L2(0.001))\n",
    "    ))\n",
    "    model.add(Dropout(0.3))\n",
    "    model.add(BatchNormalization())\n",
    "    \n",
    "    # لایه‌های Dense\n",
    "    model.add(Dense(32, activation='relu', kernel_regularizer=L2(0.001)))\n",
    "    model.add(Dropout(0.2))\n",
    "    model.add(Dense(16, activation='relu'))\n",
    "    model.add(Dense(3, activation='linear'))  # یک خروجی با ۳ مقدار\n",
    "    \n",
    "    # کامپایل اصلاح شده\n",
    "    optimizer = Adam(learning_rate=0.0005)\n",
    "    model.compile(optimizer=optimizer, \n",
    "                loss='mse',  # استفاده از یک loss واحد\n",
    "                metrics=['mae'])\n",
    "    return model\n",
    "\n",
    "# تعیین شکل ورودی: (تعداد روزها در دنباله, تعداد ویژگی‌ها)\n",
    "input_shape = (X_train_seq.shape[1], X_train_seq.shape[2])\n",
    "model = create_model(input_shape)\n",
    "model.summary()"
   ]
  },
  {
   "cell_type": "code",
   "execution_count": null,
   "metadata": {},
   "outputs": [],
   "source": [
    "# تعریف Callbackها با تنظیم دقیق‌تر\n",
    "early_stopping = EarlyStopping(monitor='val_loss', patience=20, restore_best_weights=True)\n",
    "lr_scheduler = ReduceLROnPlateau(monitor='val_loss', factor=0.5, patience=10, min_lr=1e-6)\n",
    "\n",
    "# آموزش مدل\n",
    "history = model.fit(\n",
    "    X_train_seq, y_train,\n",
    "    validation_data=(X_test_seq, y_test),\n",
    "    epochs=250,             \n",
    "    batch_size=32,\n",
    "    callbacks=[early_stopping, lr_scheduler]\n",
    ")\n"
   ]
  },
  {
   "cell_type": "code",
   "execution_count": null,
   "metadata": {},
   "outputs": [],
   "source": [
    "# پیش‌بینی مقادیر با داده تست\n",
    "y_pred_scaled = model.predict(X_test_seq)\n",
    "\n",
    "# ساخت آرایه کامل با شکل (نمونه‌ها, تمام ویژگی‌ها) برای inverse transform\n",
    "dummy_array = np.zeros((len(y_test), x.shape[1]))\n",
    "dummy_array[:, target_columns] = y_pred_scaled  # جایگذاری مقادیر پیش‌بینی شده\n",
    "\n",
    "# تبدیل به مقیاس واقعی\n",
    "y_pred_real = scaler.inverse_transform(dummy_array)[:, target_columns]"
   ]
  },
  {
   "cell_type": "code",
   "execution_count": null,
   "metadata": {},
   "outputs": [],
   "source": [
    "start_idx = split_index + sequence_length\n",
    "end_idx = start_idx + len(y_test)\n",
    "y_true_real = df.iloc[start_idx:end_idx][['High', 'Low', 'Close']].values\n",
    "\n",
    "print(\"نمونه‌ای از پیش‌بینی‌ها در مقیاس اصلی:\")\n",
    "print(y_pred_real[:5])\n",
    "print(\"نمونه‌ای از مقادیر واقعی در مقیاس اصلی:\")\n",
    "print(y_true_real[:5])"
   ]
  },
  {
   "cell_type": "markdown",
   "metadata": {},
   "source": [
    "نمونه‌ای از پیش‌بینی‌ها در مقیاس اصلی:\n",
    "[[30888.45587446 29509.71347797 30336.34898007]\n",
    " [31425.04964103 30017.07494514 30869.0461729 ]\n",
    " [31833.7033442  30404.29939991 31276.87281356]\n",
    " [32691.24968421 31216.94799676 32132.86865274]\n",
    " [33733.67368987 32203.82295132 33170.91204776]]\n",
    "نمونه‌ای از مقادیر واقعی در مقیاس اصلی:\n",
    "[[30287.48242188 29481.75195312 29918.41210938]\n",
    " [30199.43359375 29720.3125     29993.89648438]\n",
    " [34370.4375     30097.828125   33086.234375  ]\n",
    " [35150.43359375 32880.76171875 33901.52734375]\n",
    " [35133.7578125  33709.109375   34502.8203125 ]]"
   ]
  },
  {
   "cell_type": "markdown",
   "metadata": {},
   "source": [
    "نمونه‌ای از پیش‌بینی‌ها در مقیاس اصلی:\n",
    "[[32071.51269801 30491.92073138 31016.92799248]\n",
    " [32757.81094301 31133.23061613 31771.20562626]\n",
    " [33336.03782752 31673.43638986 32405.82650963]\n",
    " [34276.99234526 32551.77664266 33439.60378802]\n",
    " [35372.38589025 33573.7719406  34642.90016331]]\n",
    "نمونه‌ای از مقادیر واقعی در مقیاس اصلی:\n",
    "[[30287.48242188 29481.75195312 29918.41210938]\n",
    " [30199.43359375 29720.3125     29993.89648438]\n",
    " [34370.4375     30097.828125   33086.234375  ]\n",
    " [35150.43359375 32880.76171875 33901.52734375]\n",
    " [35133.7578125  33709.109375   34502.8203125 ]]"
   ]
  },
  {
   "cell_type": "code",
   "execution_count": null,
   "metadata": {},
   "outputs": [],
   "source": [
    "plt.figure(figsize=(14, 7))\n",
    "for i, col in enumerate(['High', 'Low', 'Close']):\n",
    "    plt.subplot(3, 1, i+1)\n",
    "    plt.plot(y_true_real[:, i], label='Real')\n",
    "    plt.plot(y_pred_real[:, i], label='Predicted')\n",
    "    plt.title(f'Prediction for {col}')\n",
    "    plt.legend()\n",
    "plt.tight_layout()\n",
    "plt.show()"
   ]
  },
  {
   "cell_type": "code",
   "execution_count": null,
   "metadata": {},
   "outputs": [],
   "source": [
    "metrics = {\n",
    "    'MAE': mean_absolute_error(y_true_real, y_pred_real),\n",
    "    'RMSE': np.sqrt(mean_squared_error(y_true_real, y_pred_real)),\n",
    "    'R²': r2_score(y_true_real, y_pred_real),\n",
    "    'MAPE': mean_absolute_percentage_error(y_true_real, y_pred_real)\n",
    "}\n",
    "\n",
    "print(\"نتایج ارزیابی:\")\n",
    "for metric, value in metrics.items():\n",
    "    print(f\"{metric}: {value:.4f}\")"
   ]
  },
  {
   "cell_type": "markdown",
   "metadata": {},
   "source": [
    "نتایج ارزیابی:\n",
    "MAE: 3657.5138\n",
    "RMSE: 5016.6410\n",
    "R²: 0.9291\n",
    "MAPE: 0.0537"
   ]
  },
  {
   "cell_type": "markdown",
   "metadata": {},
   "source": [
    "نتایج ارزیابی:\n",
    "MAE: 3908.0081\n",
    "RMSE: 5538.2381\n",
    "R²: 0.9132\n",
    "MAPE: 0.0559"
   ]
  },
  {
   "cell_type": "code",
   "execution_count": null,
   "metadata": {},
   "outputs": [],
   "source": [
    "# برای هر یک از ستون‌های پیش‌بینی (High, Low, Close)\n",
    "columns_names = ['High', 'Low', 'Close']\n",
    "\n",
    "for i, name in enumerate(columns_names):\n",
    "    mae = mean_absolute_error(y_true_real[:, i], y_pred_real[:, i])\n",
    "    rmse = np.sqrt(mean_squared_error(y_true_real[:, i], y_pred_real[:, i]))\n",
    "    r2 = r2_score(y_true_real[:, i], y_pred_real[:, i])\n",
    "    \n",
    "    print(f\"\\nمعیارها برای {name}:\")\n",
    "    print(f\"MAE  : {mae:.4f}\")\n",
    "    print(f\"RMSE : {rmse:.4f}\")\n",
    "    print(f\"R^2  : {r2:.4f}\")\n"
   ]
  },
  {
   "cell_type": "code",
   "execution_count": null,
   "metadata": {},
   "outputs": [],
   "source": [
    "model.save('pred_BTC_ind.h5')"
   ]
  }
 ],
 "metadata": {
  "kernelspec": {
   "display_name": "Python 3",
   "language": "python",
   "name": "python3"
  },
  "language_info": {
   "codemirror_mode": {
    "name": "ipython",
    "version": 3
   },
   "file_extension": ".py",
   "mimetype": "text/x-python",
   "name": "python",
   "nbconvert_exporter": "python",
   "pygments_lexer": "ipython3",
   "version": "3.12.1"
  }
 },
 "nbformat": 4,
 "nbformat_minor": 2
}
